{
 "cells": [
  {
   "cell_type": "code",
   "execution_count": 9,
   "id": "55678d2c",
   "metadata": {},
   "outputs": [],
   "source": [
    "import numpy as np\n",
    "import matplotlib.pyplot as plt\n",
    "import matplotlib as mpl\n",
    "import itertools\n",
    "import networkx as nx\n",
    "import pickle\n",
    "from matplotlib.colors import LogNorm\n",
    "from collections import OrderedDict\n",
    "import os\n",
    "import re\n",
    "import sys\n",
    "sys.path.insert(0, \"lib\")  # add the library folder to the path where I look for modules\n",
    "import latexify\n",
    "\n",
    "\n"
   ]
  },
  {
   "cell_type": "code",
   "execution_count": 2,
   "id": "5ad9b565",
   "metadata": {},
   "outputs": [
    {
     "name": "stdout",
     "output_type": "stream",
     "text": [
      " Results are available for the values of theta:\n",
      "0.0\n"
     ]
    }
   ],
   "source": [
    "def load_obj(theta,specifier=''):\n",
    "    name='theta:'+str(theta)+specifier+'.pkl'\n",
    "    with open('./data/dic-' + name , 'rb') as f:\n",
    "        return pickle.load(f)\n",
    "def load_and_hist(theta,specifier):\n",
    "    dic = load_obj(theta,specifier)\n",
    "    Ts = dic['Ts']\n",
    "    data = dic['data']\n",
    "    img = []\n",
    "    for i in range(len(Ts)):\n",
    "        h,b = np.histogram(data[i],bins = np.linspace(0,1,401),density=True)\n",
    "        img+=[h]\n",
    "    return img,b,Ts\n",
    "\n",
    "\n",
    "filenames=os.listdir(\"./data\")\n",
    "pattern = re.compile(\"dic-theta:\\d*\\.\\d+|\\d.pkl\")\n",
    "\n",
    "dictnames=[name  for name in filenames if pattern.match(name)]# select only dictionary files\n",
    "print(' Results are available for the values of theta:')\n",
    "thetas_avail = {filename.lstrip('dic-theta:').rstrip('.pkl').split('_',1)[0] for filename in dictnames}\n",
    "for name in sorted(thetas_avail):\n",
    "    print(name)\n",
    "#for filename in dictnames:\n",
    "#    print(filename)"
   ]
  },
  {
   "cell_type": "code",
   "execution_count": 3,
   "id": "d6962787",
   "metadata": {},
   "outputs": [],
   "source": [
    "theta = 0.\n",
    "pattern2 = re.compile(\"dic-theta:\"+str(theta)+\"_+|\\d.pkl\")\n",
    "suffix_list = [name.lstrip(\"dic-theta:\"+str(theta)).rstrip('.pkl') for name in dictnames if pattern2.match(name)]\n",
    "if  suffix_list:\n",
    "    print(suffix_list)\n"
   ]
  },
  {
   "cell_type": "code",
   "execution_count": 10,
   "id": "07762837",
   "metadata": {},
   "outputs": [],
   "source": [
    "\n",
    "def generate_degree_seq(gamma, N):\n",
    "    kseq = np.ceil( np.random.pareto(gamma, N))\n",
    "    cond = kseq > N\n",
    "    while any(cond):\n",
    "        temp_seq = np.ceil( np.random.pareto(gamma, np.count_nonzero(cond)))\n",
    "        kseq[cond] = temp_seq\n",
    "        cond = kseq > N\n",
    "    return np.array(kseq, dtype=int)\n",
    "def make_network(N, gamma,bias):\n",
    "    def neighbouring(A):\n",
    "        interaction = []\n",
    "        js = []\n",
    "        Ks = []\n",
    "        for l, u in zip(A.indptr[:-1], A.indptr[1:]):\n",
    "            js += [A.indices[l:u]]\n",
    "            interaction += [A.data[l:u] / np.sqrt(u - l)]\n",
    "            Ks += [u - l]\n",
    "        return js, interaction, Ks\n",
    "\n",
    "    seq = generate_degree_seq(gamma, N)\n",
    "    G = nx.generators.degree_seq.directed_configuration_model(seq, np.random.permutation(seq))\n",
    "    G = nx.DiGraph(G)\n",
    "    G.remove_edges_from(nx.selfloop_edges(G))\n",
    "    J = nx.adjacency_matrix(G)\n",
    "    sign_interaction = np.where(np.random.rand(J.nnz) > bias, 1, -1)  # bias in positive regulation\n",
    "    J.data = np.ravel(sign_interaction)  # add negative element\n",
    "    return J\n",
    "N = 10000\n",
    "gamma = 3\n",
    "bias = 0.5\n",
    "J = make_network(N,gamma,bias)"
   ]
  },
  {
   "cell_type": "code",
   "execution_count": 22,
   "id": "910e9799",
   "metadata": {},
   "outputs": [],
   "source": [
    "J = make_network(N,gamma,bias)\n",
    "J_transpose = J.transpose().tolil()\n",
    "js = J_transpose.rows  # list of list, structure is [el[i]] where el[i]\n",
    "# is the list of  predecessors of gene i ( the index)\n",
    "interaction = J_transpose.data  # list of list, structure is [el[i]]\n",
    "# where el[i] is the list of  predecessors of gene i (interaction strength with sign)\n",
    "Ks = np.array([len(neigh) for neigh in js])  # in degree of each gene\n",
    "max_outdegree = max(Ks)\n",
    "max_recursions = int((max_outdegree + 1) * (max_outdegree + 2) / 2)"
   ]
  },
  {
   "cell_type": "code",
   "execution_count": 23,
   "id": "60846204",
   "metadata": {},
   "outputs": [],
   "source": [
    "import dynamical_cavity\n",
    "from multiprocessing import Pool"
   ]
  },
  {
   "cell_type": "code",
   "execution_count": 24,
   "id": "fc4a8e92",
   "metadata": {},
   "outputs": [
    {
     "name": "stdout",
     "output_type": "stream",
     "text": [
      "finishing after 15 iterations\n"
     ]
    },
    {
     "data": {
      "text/plain": [
       "array([0.9076747 , 0.55495917, 0.22836763, ..., 0.37558726, 0.05818157,\n",
       "       0.03900589])"
      ]
     },
     "execution_count": 24,
     "metadata": {},
     "output_type": "execute_result"
    }
   ],
   "source": [
    "T = 0.2\n",
    "dynamical_cavity.cavity(np.random.rand(N), js, T, interaction, N, Ks, theta,1)"
   ]
  },
  {
   "cell_type": "code",
   "execution_count": 28,
   "id": "76082303",
   "metadata": {},
   "outputs": [
    {
     "name": "stdout",
     "output_type": "stream",
     "text": [
      "finishing after 13 iterationsfinishing after\n",
      " finishing after 1414  iterations\n",
      "iterationsfinishing after 16 iterations\n",
      "finishing after finishing after 1515 iterations\n",
      "finishing after \n",
      "15 iterations\n",
      " iterations\n",
      "finishing after 16 iterationsfinishing after \n",
      "finishing after 16finishing after 16iterations \n",
      "finishing after 16 iterations\n",
      " iterations\n",
      "16 iterations\n",
      "finishing after 13 iterations\n",
      "finishing after 14 finishing afteriterations\n",
      " 14 iterations\n",
      "finishing after 16finishing afterfinishing after 16 iterations \n",
      "finishing after  finishing after15iterations  15\n",
      "15 iterations\n",
      "finishing after iterations iterations\n",
      "15 iterations\n",
      "\n",
      "finishing after 16 iterations\n",
      "finishing after 16 finishing afteriterations\n",
      " 16 iterations\n",
      "finishing after 13 iterations\n",
      "finishing afterfinishing after  14 iterations\n",
      "14 iterations\n",
      "finishing after 14 iterations\n",
      "finishing afterfinishing after 16 iterations\n",
      " 15finishing after  15 iterations\n",
      "iterations\n",
      "finishing afterfinishing after 16  15 iterationsiterations\n",
      "\n",
      "finishing after 16 iterations\n",
      "finishing after 16 iterations\n",
      "finishing after 16 iterations\n",
      "finishing after 13 iterations\n",
      "finishing after 12 finishing after iterations\n",
      "12finishing after iterations\n",
      " 13finishing after iterations\n",
      " 10 iterations\n",
      "finishing after 11 iterations\n",
      "finishing after 10finishing after 10 iterations\n",
      "finishing after iterations\n",
      "finishing after 11 iterations \n",
      "finishing after11  9iterations iterations\n",
      "\n",
      "finishing after 9 iterations\n",
      "finishing after 10 iterations\n",
      "finishing afterfinishing after 12 13  iterations\n",
      "finishing afteriterations\n",
      "finishing after 12finishing after  10 9 iterationsfinishing after\n",
      " iterations \n",
      "12 iterations\n",
      "iterationsfinishing after\n",
      " 11 finishing after iterations10\n",
      " iterations\n",
      "finishing after 11 iterations\n",
      "finishing afterfinishing after 9 iterations\n",
      " 11 iterations\n",
      "finishing after 10 iterations\n",
      "finishing after finishing after9  iterations9\n",
      " iterations\n",
      "finishing after 12 iterations\n",
      "finishing after 10 iterationsfinishing after 9finishing after finishing after12 \n",
      " iterations 12 iterations\n",
      "iterationsfinishing after\n",
      "\n",
      " 10finishing after iterations\n",
      " finishing after11  iterations\n",
      "11 finishing afteriterations 13\n",
      " iterations\n",
      "finishing after 9 iterations\n",
      "finishing after 9 iterations\n",
      "finishing afterfinishing after  8 iterations9\n",
      " iterations\n",
      "finishing after 8 iterations\n",
      "finishing after finishing after8finishing after  87 finishing after iterations\n",
      "finishing afteriterations \n",
      "7 iterations\n",
      "  8 iterations\n",
      "iterationsfinishing after 8 iterations\n",
      "\n",
      "finishing after 8 iterations\n",
      "finishing after 9 iterations\n",
      "finishing after finishing after8 8 finishing afteriterations \n",
      " 9finishing after  iterationsfinishing after 7iterations\n",
      "7finishing after  iterationsiterations\n",
      "\n",
      " \n",
      "8 iterations\n",
      "finishing afterfinishing afterfinishing after  8finishing after  88 finishing afteriterations\n",
      "  iterations\n",
      " iterations89\n",
      " iterations\n",
      " iterations\n",
      "finishing after 9 iterations\n",
      "finishing after finishing after finishing after77  iterations\n",
      "iterations \n",
      "8finishing after iterations\n",
      " 8 iterationsfinishing after \n",
      "8 iterations\n",
      "finishing afterfinishing after 9  8iterations \n",
      "iterations\n",
      "finishing after 8 iterations\n",
      "finishing after 8 iterations\n",
      "finishing after 8 iterations\n",
      "finishing after 8 iterations\n",
      "finishing after 7 iterations\n"
     ]
    }
   ],
   "source": [
    "precision=1e-4\n",
    "max_iter=50\n",
    "pool = Pool()\n",
    "pool.starmap(dynamical_cavity.cavity, itertools.product([np.random.rand(N)], [js], Ts, [interaction], [N], [Ks], [theta],[1], [precision],\n",
    "                                                  [max_iter]))  # run in parallel at different temperatures\n",
    "pool.close()"
   ]
  },
  {
   "cell_type": "code",
   "execution_count": 36,
   "id": "b8de9ce1",
   "metadata": {},
   "outputs": [
    {
     "name": "stdout",
     "output_type": "stream",
     "text": [
      " the compuational cost is equivalent to evaluate a random reg. graph with degree =  11.260544205095274\n"
     ]
    },
    {
     "ename": "TypeError",
     "evalue": "list indices must be integers or slices, not list",
     "output_type": "error",
     "traceback": [
      "\u001b[0;31m---------------------------------------------------------------------------\u001b[0m",
      "\u001b[0;31mRemoteTraceback\u001b[0m                           Traceback (most recent call last)",
      "\u001b[0;31mRemoteTraceback\u001b[0m: \n\"\"\"\nTraceback (most recent call last):\n  File \"/home/giuseppe/anaconda3/lib/python3.8/multiprocessing/pool.py\", line 125, in worker\n    result = (True, func(*args, **kwds))\n  File \"/home/giuseppe/anaconda3/lib/python3.8/multiprocessing/pool.py\", line 51, in starmapstar\n    return list(itertools.starmap(args[0], args[1]))\n  File \"lib/dynamical_cavity.py\", line 129, in cavity\n    P_new[i]=cavity_single_numba(P[j],np.array(inter),T,theta,K,J0)\nTypeError: list indices must be integers or slices, not list\n\"\"\"",
      "\nThe above exception was the direct cause of the following exception:\n",
      "\u001b[0;31mTypeError\u001b[0m                                 Traceback (most recent call last)",
      "\u001b[0;32m<ipython-input-36-538774cfe9b2>\u001b[0m in \u001b[0;36m<module>\u001b[0;34m\u001b[0m\n\u001b[1;32m     38\u001b[0m     \u001b[0;32mreturn\u001b[0m \u001b[0mdata\u001b[0m\u001b[0;34m\u001b[0m\u001b[0;34m\u001b[0m\u001b[0m\n\u001b[1;32m     39\u001b[0m \u001b[0;34m\u001b[0m\u001b[0m\n\u001b[0;32m---> 40\u001b[0;31m \u001b[0mcavity_parallel\u001b[0m\u001b[0;34m(\u001b[0m\u001b[0;34m[\u001b[0m\u001b[0;36m0.5\u001b[0m\u001b[0;34m]\u001b[0m\u001b[0;34m*\u001b[0m\u001b[0mN\u001b[0m\u001b[0;34m,\u001b[0m\u001b[0mTs\u001b[0m\u001b[0;34m,\u001b[0m\u001b[0mJ\u001b[0m\u001b[0;34m,\u001b[0m\u001b[0mtheta\u001b[0m\u001b[0;34m,\u001b[0m\u001b[0;36m2\u001b[0m\u001b[0;34m)\u001b[0m\u001b[0;34m\u001b[0m\u001b[0;34m\u001b[0m\u001b[0m\n\u001b[0m",
      "\u001b[0;32m<ipython-input-36-538774cfe9b2>\u001b[0m in \u001b[0;36mcavity_parallel\u001b[0;34m(P_init, Ts, J, theta, threads, J0, precision, max_iter)\u001b[0m\n\u001b[1;32m     33\u001b[0m             \u001b[0mJ0\u001b[0m \u001b[0;34m=\u001b[0m \u001b[0;36m1\u001b[0m\u001b[0;34m/\u001b[0m \u001b[0mnp\u001b[0m\u001b[0;34m.\u001b[0m\u001b[0msqrt\u001b[0m\u001b[0;34m(\u001b[0m\u001b[0mavg_degree\u001b[0m\u001b[0;34m)\u001b[0m\u001b[0;34m\u001b[0m\u001b[0;34m\u001b[0m\u001b[0m\n\u001b[1;32m     34\u001b[0m \u001b[0;34m\u001b[0m\u001b[0m\n\u001b[0;32m---> 35\u001b[0;31m     data = pool.starmap(dynamical_cavity.cavity, itertools.product([P_init], [js], Ts, [interaction], [N], [Ks], [theta],[J0], [precision],\n\u001b[0m\u001b[1;32m     36\u001b[0m                                                   [max_iter]))  # run in parallel at different temperatures\n\u001b[1;32m     37\u001b[0m     \u001b[0mpool\u001b[0m\u001b[0;34m.\u001b[0m\u001b[0mclose\u001b[0m\u001b[0;34m(\u001b[0m\u001b[0;34m)\u001b[0m\u001b[0;34m\u001b[0m\u001b[0;34m\u001b[0m\u001b[0m\n",
      "\u001b[0;32m~/anaconda3/lib/python3.8/multiprocessing/pool.py\u001b[0m in \u001b[0;36mstarmap\u001b[0;34m(self, func, iterable, chunksize)\u001b[0m\n\u001b[1;32m    370\u001b[0m         \u001b[0;31m`\u001b[0m\u001b[0mfunc\u001b[0m\u001b[0;31m`\u001b[0m \u001b[0;32mand\u001b[0m \u001b[0;34m(\u001b[0m\u001b[0ma\u001b[0m\u001b[0;34m,\u001b[0m \u001b[0mb\u001b[0m\u001b[0;34m)\u001b[0m \u001b[0mbecomes\u001b[0m \u001b[0mfunc\u001b[0m\u001b[0;34m(\u001b[0m\u001b[0ma\u001b[0m\u001b[0;34m,\u001b[0m \u001b[0mb\u001b[0m\u001b[0;34m)\u001b[0m\u001b[0;34m.\u001b[0m\u001b[0;34m\u001b[0m\u001b[0;34m\u001b[0m\u001b[0m\n\u001b[1;32m    371\u001b[0m         '''\n\u001b[0;32m--> 372\u001b[0;31m         \u001b[0;32mreturn\u001b[0m \u001b[0mself\u001b[0m\u001b[0;34m.\u001b[0m\u001b[0m_map_async\u001b[0m\u001b[0;34m(\u001b[0m\u001b[0mfunc\u001b[0m\u001b[0;34m,\u001b[0m \u001b[0miterable\u001b[0m\u001b[0;34m,\u001b[0m \u001b[0mstarmapstar\u001b[0m\u001b[0;34m,\u001b[0m \u001b[0mchunksize\u001b[0m\u001b[0;34m)\u001b[0m\u001b[0;34m.\u001b[0m\u001b[0mget\u001b[0m\u001b[0;34m(\u001b[0m\u001b[0;34m)\u001b[0m\u001b[0;34m\u001b[0m\u001b[0;34m\u001b[0m\u001b[0m\n\u001b[0m\u001b[1;32m    373\u001b[0m \u001b[0;34m\u001b[0m\u001b[0m\n\u001b[1;32m    374\u001b[0m     def starmap_async(self, func, iterable, chunksize=None, callback=None,\n",
      "\u001b[0;32m~/anaconda3/lib/python3.8/multiprocessing/pool.py\u001b[0m in \u001b[0;36mget\u001b[0;34m(self, timeout)\u001b[0m\n\u001b[1;32m    769\u001b[0m             \u001b[0;32mreturn\u001b[0m \u001b[0mself\u001b[0m\u001b[0;34m.\u001b[0m\u001b[0m_value\u001b[0m\u001b[0;34m\u001b[0m\u001b[0;34m\u001b[0m\u001b[0m\n\u001b[1;32m    770\u001b[0m         \u001b[0;32melse\u001b[0m\u001b[0;34m:\u001b[0m\u001b[0;34m\u001b[0m\u001b[0;34m\u001b[0m\u001b[0m\n\u001b[0;32m--> 771\u001b[0;31m             \u001b[0;32mraise\u001b[0m \u001b[0mself\u001b[0m\u001b[0;34m.\u001b[0m\u001b[0m_value\u001b[0m\u001b[0;34m\u001b[0m\u001b[0;34m\u001b[0m\u001b[0m\n\u001b[0m\u001b[1;32m    772\u001b[0m \u001b[0;34m\u001b[0m\u001b[0m\n\u001b[1;32m    773\u001b[0m     \u001b[0;32mdef\u001b[0m \u001b[0m_set\u001b[0m\u001b[0;34m(\u001b[0m\u001b[0mself\u001b[0m\u001b[0;34m,\u001b[0m \u001b[0mi\u001b[0m\u001b[0;34m,\u001b[0m \u001b[0mobj\u001b[0m\u001b[0;34m)\u001b[0m\u001b[0;34m:\u001b[0m\u001b[0;34m\u001b[0m\u001b[0;34m\u001b[0m\u001b[0m\n",
      "\u001b[0;31mTypeError\u001b[0m: list indices must be integers or slices, not list"
     ]
    }
   ],
   "source": [
    "def cavity_parallel(P_init, Ts, J, theta, threads,J0 = 'auto', precision=1e-4, max_iter=50):\n",
    "    \"\"\"\n",
    "    Run the dynamical cavity with recursive calls.\n",
    "    :param P_init: list of floats of length N\n",
    "    :param T: float\n",
    "    :param J: sparse.csr_matrix\n",
    "    :param theta: float (in units of 1/sqrt(<K>))\n",
    "    :param max_iter: int\n",
    "    :param precision: float\n",
    "    :return: P_new it is a  list of dimensions N which contains the probability of active state for each gene.\n",
    "    In order to help storing, couplings are taken to be +-1, bias is then rescaled by 1/sqrt(<|J_{ij}|>)\n",
    "    \"\"\"\n",
    "    J = J.copy()\n",
    "    J.data = np.where(J.data > 0, 1, -1)\n",
    "    N = J.shape[0]\n",
    "    J_transpose = J.transpose().tolil()\n",
    "    js = J_transpose.rows  # list of list, structure is [el[i]] where el[i]\n",
    "    # is the list of  predecessors of gene i ( the index)\n",
    "    interaction = J_transpose.data  # list of list, structure is [el[i]]\n",
    "    # where el[i] is the list of  predecessors of gene i (interaction strength with sign)\n",
    "    Ks = np.array([len(neigh) for neigh in js])  # in degree of each gene\n",
    "    print(' the compuational cost is equivalent to evaluate a random reg. graph with degree = ',\n",
    "          (-1 + 8 * np.sqrt(1 + np.mean((Ks + 1) * (Ks + 2)))) / 2)\n",
    "    if threads < 0:\n",
    "        pool = Pool()\n",
    "    else:\n",
    "        pool = Pool(int(threads))\n",
    "    if type(J0)==str:\n",
    "        if J0!='auto':\n",
    "            raise ValueError('uncomprensible argument')\n",
    "        if J0 =='auto':\n",
    "            avg_degree = np.mean(Ks)\n",
    "            J0 = 1/ np.sqrt(avg_degree)\n",
    "\n",
    "    data = pool.starmap(dynamical_cavity.cavity, itertools.product([P_init], [js], Ts, [interaction], [N], [Ks], [theta],[J0], [precision],\n",
    "                                                  [max_iter]))  # run in parallel at different temperatures\n",
    "    pool.close()\n",
    "    return data\n",
    "\n",
    "cavity_parallel(np.random.rand(N),Ts,J,theta,2)"
   ]
  },
  {
   "cell_type": "code",
   "execution_count": 34,
   "id": "d9c6bf94",
   "metadata": {},
   "outputs": [
    {
     "ename": "NameError",
     "evalue": "name 'P_init' is not defined",
     "output_type": "error",
     "traceback": [
      "\u001b[0;31m---------------------------------------------------------------------------\u001b[0m",
      "\u001b[0;31mNameError\u001b[0m                                 Traceback (most recent call last)",
      "\u001b[0;32m<ipython-input-34-44b8aaeea25f>\u001b[0m in \u001b[0;36m<module>\u001b[0;34m\u001b[0m\n\u001b[0;32m----> 1\u001b[0;31m \u001b[0mP_init\u001b[0m\u001b[0;34m\u001b[0m\u001b[0;34m\u001b[0m\u001b[0m\n\u001b[0m",
      "\u001b[0;31mNameError\u001b[0m: name 'P_init' is not defined"
     ]
    }
   ],
   "source": [
    "P_init"
   ]
  },
  {
   "cell_type": "code",
   "execution_count": null,
   "id": "9fca016d",
   "metadata": {},
   "outputs": [],
   "source": []
  }
 ],
 "metadata": {
  "kernelspec": {
   "display_name": "Python 3",
   "language": "python",
   "name": "python3"
  },
  "language_info": {
   "codemirror_mode": {
    "name": "ipython",
    "version": 3
   },
   "file_extension": ".py",
   "mimetype": "text/x-python",
   "name": "python",
   "nbconvert_exporter": "python",
   "pygments_lexer": "ipython3",
   "version": "3.8.8"
  }
 },
 "nbformat": 4,
 "nbformat_minor": 5
}
