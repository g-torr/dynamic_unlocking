{
 "cells": [
  {
   "cell_type": "code",
   "execution_count": 1,
   "metadata": {},
   "outputs": [],
   "source": [
    "import matplotlib.pyplot as plt\n",
    "import numpy as np\n",
    "import networkx as nx\n",
    "import sys\n",
    "sys.path.insert(0, \"lib\")  # add the library folder to the path I look for modules\n",
    "import latexify\n",
    "blue = '#1f77b4'\n",
    "red = '#d62728'\n",
    "green = '#2ca02c'"
   ]
  },
  {
   "cell_type": "markdown",
   "metadata": {},
   "source": [
    "Generate Figure 1, it "
   ]
  },
  {
   "cell_type": "code",
   "execution_count": 2,
   "metadata": {},
   "outputs": [],
   "source": [
    "conta = 0\n",
    "def dynamic_programming_test(P_setting,bias, l ,lookup):\n",
    "        key = (l,bias)\n",
    "        if (l == K):\n",
    "            if bias == 0:\n",
    "                lookup[key] = P_setting\n",
    "                #print(lookup,'\\n',P_setting)\n",
    "                return P_setting# return the probability of the state\n",
    "            else:\n",
    "                lookup[key] = 0\n",
    "                return 0 #configuration doesn't respect the bias, it has probability 0\n",
    "        \n",
    "        if key not in lookup:\n",
    "            include = P_setting * dynamic_programming_test(P[j[l]],bias+inter[l], l+1,lookup)\n",
    "            exclude = P_setting *  dynamic_programming_test(1-P[j[l]],bias, l+1 ,lookup)\n",
    "            lookup[key] = include + exclude\n",
    "        #print(l)\n",
    "        if l ==0:\n",
    "            return lookup[key],lookup\n",
    "        return lookup[key]\n",
    "    \n",
    "def recursion(bias, l,lookup):\n",
    "    key = (l,bias)\n",
    "    if (l == K+1):\n",
    "        bias = (bias-theta)/ np.sqrt(avg_degree)\n",
    "        lookup[key] = np.tanh(bias/2/T)\n",
    "        return np.tanh(bias/2/T)\n",
    "    if key not in lookup:\n",
    "        include = P[j[l-1]] * recursion(bias+inter[l-1], l+1 ,lookup)# include node l with prob. P[j[l]]\n",
    "        exclude = (1-P[j[l-1]]) *  recursion(bias, l+1,lookup )# ignore node l\n",
    "        lookup[key] = include + exclude        \n",
    "    if l ==1:\n",
    "        return lookup[key],lookup\n",
    "    return  lookup[key]\n"
   ]
  },
  {
   "cell_type": "code",
   "execution_count": 3,
   "metadata": {},
   "outputs": [],
   "source": [
    "def create_graph( N,kin):\n",
    "    G = nx.generators.directed.random_uniform_k_out_graph(N,kin,self_loops = False, with_replacement=False)\n",
    "    G = G.reverse()\n",
    "    J = nx.adjacency_matrix(G)\n",
    "    sign_interaction = np.where(np.random.rand(J.nnz)>0.5,1,-1)/np.sqrt(kin)\n",
    "    J.data = sign_interaction\n",
    "    return J\n",
    "J = create_graph(100,4)\n",
    "N = J.shape[0]\n",
    "A = J.tocsc()\n",
    "js = [A.indices[A.indptr[i]:A.indptr[i + 1]] for i in range(N)]  # list of list, structure is [el[i]] where el[i]\n",
    "# is the list of  predecessors of gene i ( the index)\n",
    "interaction = [A.data[A.indptr[i]:A.indptr[i + 1]] for i in range(N)]  # list of list, structure is [el[i]]\n",
    "# where el[i] is the list of  predecessors of gene i (interaction strength with sign)\n",
    "interaction = [np.where(inter>0,1,-1) for inter in interaction]#make interactions as +=1 rather than floats\n",
    "Ks = np.diff(A.indptr)  # in degree of each gene\n"
   ]
  },
  {
   "cell_type": "code",
   "execution_count": 4,
   "metadata": {},
   "outputs": [],
   "source": [
    "for i in range(N):\n",
    "    if all(interaction[i] == [1,-1,-1,1]):\n",
    "        break\n",
    "T = 1\n",
    "theta = 0\n",
    "avg_degree = np.mean(Ks)\n",
    "K = Ks[i]\n",
    "j = js[i]\n",
    "inter = interaction[i]\n",
    "P = np.random.rand(N)\n",
    "a,b = recursion(0,1,{})"
   ]
  },
  {
   "cell_type": "code",
   "execution_count": 5,
   "metadata": {},
   "outputs": [
    {
     "data": {
      "image/png": "[encoded data removed]",
      "text/plain": [
       "<Figure size 496.8x307.039 with 2 Axes>"
      ]
     },
     "metadata": {
      "needs_background": "light"
     },
     "output_type": "display_data"
    }
   ],
   "source": [
    "latexify.latexify(columns = 1)\n",
    "indices = np.array(list(b.keys()))\n",
    "cond = np.array(list(b.values()))>0#consider non zero probability\n",
    "_,axes = plt.subplots(2,1,gridspec_kw={'height_ratios': [1, 10]},sharex=True)\n",
    "axes[1].plot(*indices[:,:2].T,'ms',ms = 10)\n",
    "axes[1].set_xlabel('$\\ell$',fontsize = 16)\n",
    "axes[1].set_ylabel('$\\\\tilde{h}/J$',fontsize = 16)\n",
    "axes[1].set_xticks(range(1,K+2))\n",
    "plt.xticks(fontsize = 14)\n",
    "plt.yticks(fontsize = 14)\n",
    "axes[1].set_yticks(range(int(plt.ylim()[0]),int(plt.ylim()[1])+1))\n",
    "#axes[0].plot(list(zip(np.arange(len(inter))[inter==1],np.arange(1,1+len(inter))[inter==1]))[0],[0.5,0.5])\n",
    "pos = list(zip(np.arange(1,len(inter)+1)[inter==1],np.arange(2,2+len(inter))[inter==1]))\n",
    "neg = list(zip(np.arange(1,len(inter)+1)[inter==-1],np.arange(2,2+len(inter))[inter==-1]))\n",
    "for x in pos:\n",
    "    axes[0].plot(x,[0.,0.],'-s',c = blue,lw = 5,mfc = 'w',mec = 'w')\n",
    "    axes[0].text(sum(x)/2-0.1,0.05,'$+J$',fontsize = 16)\n",
    "for x in neg:\n",
    "    axes[0].plot(x,[0.,0.],'-s',c = red,lw =5 ,mfc = 'w',mec = 'w')\n",
    "    axes[0].text(sum(x)/2-0.1,0.05,'$-J$',fontsize = 16)\n",
    "\n",
    "axes[0].axis('off')\n",
    "for l,h in indices:\n",
    "    if l <K+1:\n",
    "        #plt.plot([l,l+1],[h,h],'k--')\n",
    "        plt.arrow(l+1,h,-1,0,width = 0.01,length_includes_head = True,color = green,head_width = 0.15,head_length=0.3)\n",
    "        s = inter[l-1]\n",
    "        if s >0:\n",
    "            plt.arrow(l+1,h+inter[l-1],-1,-inter[l-1],width = 0.01,length_includes_head = True,color = '#1f77b4',head_width = 0.15,head_length=0.3)#blue\n",
    "        else:\n",
    "            plt.arrow(l+1,h+inter[l-1],-1,-inter[l-1],width = 0.01,length_includes_head = True,color = '#d62728',head_width = 0.15,head_length=0.3)#red\n",
    "plt.tight_layout()\n",
    "#plt.savefig('dynamical_programming.pdf')"
   ]
  },
  {
   "cell_type": "code",
   "execution_count": null,
   "metadata": {},
   "outputs": [],
   "source": []
  }
 ],
 "metadata": {
  "kernelspec": {
   "display_name": "Python 3",
   "language": "python",
   "name": "python3"
  },
  "language_info": {
   "codemirror_mode": {
    "name": "ipython",
    "version": 3
   },
   "file_extension": ".py",
   "mimetype": "text/x-python",
   "name": "python",
   "nbconvert_exporter": "python",
   "pygments_lexer": "ipython3",
   "version": "3.7.4"
  }
 },
 "nbformat": 4,
 "nbformat_minor": 2
}
